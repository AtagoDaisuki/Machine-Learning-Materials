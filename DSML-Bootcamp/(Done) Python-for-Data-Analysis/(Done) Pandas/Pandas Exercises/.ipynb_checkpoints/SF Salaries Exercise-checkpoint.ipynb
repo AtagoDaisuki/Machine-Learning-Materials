{
 "cells": [
  {
   "cell_type": "markdown",
   "metadata": {},
   "source": [
    "___\n",
    "\n",
    "<a href='http://www.pieriandata.com'> <img src='../../Pierian_Data_Logo.png' /></a>\n",
    "___"
   ]
  },
  {
   "cell_type": "markdown",
   "metadata": {},
   "source": [
    "# SF Salaries Exercise \n",
    "\n",
    "Welcome to a quick exercise for you to practice your pandas skills! We will be using the [SF Salaries Dataset](https://www.kaggle.com/kaggle/sf-salaries) from Kaggle! Just follow along and complete the tasks outlined in bold below. The tasks will get harder and harder as you go along."
   ]
  },
  {
   "cell_type": "markdown",
   "metadata": {},
   "source": [
    "** Import pandas as pd.**"
   ]
  },
  {
   "cell_type": "code",
   "execution_count": 2,
   "metadata": {
    "collapsed": true
   },
   "outputs": [],
   "source": [
    "import pandas as pd"
   ]
  },
  {
   "cell_type": "markdown",
   "metadata": {},
   "source": [
    "** Read Salaries.csv as a dataframe called sal.**"
   ]
  },
  {
   "cell_type": "code",
   "execution_count": 3,
   "metadata": {
    "collapsed": true
   },
   "outputs": [],
   "source": [
    "df = pd.read_csv(\"salaries.csv\")"
   ]
  },
  {
   "cell_type": "markdown",
   "metadata": {},
   "source": [
    "** Check the head of the DataFrame. **"
   ]
  },
  {
   "cell_type": "code",
   "execution_count": 39,
   "metadata": {},
   "outputs": [
    {
     "data": {
      "text/html": [
       "<div>\n",
       "<style>\n",
       "    .dataframe thead tr:only-child th {\n",
       "        text-align: right;\n",
       "    }\n",
       "\n",
       "    .dataframe thead th {\n",
       "        text-align: left;\n",
       "    }\n",
       "\n",
       "    .dataframe tbody tr th {\n",
       "        vertical-align: top;\n",
       "    }\n",
       "</style>\n",
       "<table border=\"1\" class=\"dataframe\">\n",
       "  <thead>\n",
       "    <tr style=\"text-align: right;\">\n",
       "      <th></th>\n",
       "      <th>Id</th>\n",
       "      <th>EmployeeName</th>\n",
       "      <th>JobTitle</th>\n",
       "      <th>BasePay</th>\n",
       "      <th>OvertimePay</th>\n",
       "      <th>OtherPay</th>\n",
       "      <th>Benefits</th>\n",
       "      <th>TotalPay</th>\n",
       "      <th>TotalPayBenefits</th>\n",
       "      <th>Year</th>\n",
       "      <th>Notes</th>\n",
       "      <th>Agency</th>\n",
       "      <th>Status</th>\n",
       "    </tr>\n",
       "  </thead>\n",
       "  <tbody>\n",
       "    <tr>\n",
       "      <th>0</th>\n",
       "      <td>1</td>\n",
       "      <td>NATHANIEL FORD</td>\n",
       "      <td>GENERAL MANAGER-METROPOLITAN TRANSIT AUTHORITY</td>\n",
       "      <td>167411.18</td>\n",
       "      <td>0.00</td>\n",
       "      <td>400184.25</td>\n",
       "      <td>NaN</td>\n",
       "      <td>567595.43</td>\n",
       "      <td>567595.43</td>\n",
       "      <td>2011</td>\n",
       "      <td>NaN</td>\n",
       "      <td>San Francisco</td>\n",
       "      <td>NaN</td>\n",
       "    </tr>\n",
       "    <tr>\n",
       "      <th>1</th>\n",
       "      <td>2</td>\n",
       "      <td>GARY JIMENEZ</td>\n",
       "      <td>CAPTAIN III (POLICE DEPARTMENT)</td>\n",
       "      <td>155966.02</td>\n",
       "      <td>245131.88</td>\n",
       "      <td>137811.38</td>\n",
       "      <td>NaN</td>\n",
       "      <td>538909.28</td>\n",
       "      <td>538909.28</td>\n",
       "      <td>2011</td>\n",
       "      <td>NaN</td>\n",
       "      <td>San Francisco</td>\n",
       "      <td>NaN</td>\n",
       "    </tr>\n",
       "    <tr>\n",
       "      <th>2</th>\n",
       "      <td>3</td>\n",
       "      <td>ALBERT PARDINI</td>\n",
       "      <td>CAPTAIN III (POLICE DEPARTMENT)</td>\n",
       "      <td>212739.13</td>\n",
       "      <td>106088.18</td>\n",
       "      <td>16452.60</td>\n",
       "      <td>NaN</td>\n",
       "      <td>335279.91</td>\n",
       "      <td>335279.91</td>\n",
       "      <td>2011</td>\n",
       "      <td>NaN</td>\n",
       "      <td>San Francisco</td>\n",
       "      <td>NaN</td>\n",
       "    </tr>\n",
       "    <tr>\n",
       "      <th>3</th>\n",
       "      <td>4</td>\n",
       "      <td>CHRISTOPHER CHONG</td>\n",
       "      <td>WIRE ROPE CABLE MAINTENANCE MECHANIC</td>\n",
       "      <td>77916.00</td>\n",
       "      <td>56120.71</td>\n",
       "      <td>198306.90</td>\n",
       "      <td>NaN</td>\n",
       "      <td>332343.61</td>\n",
       "      <td>332343.61</td>\n",
       "      <td>2011</td>\n",
       "      <td>NaN</td>\n",
       "      <td>San Francisco</td>\n",
       "      <td>NaN</td>\n",
       "    </tr>\n",
       "    <tr>\n",
       "      <th>4</th>\n",
       "      <td>5</td>\n",
       "      <td>PATRICK GARDNER</td>\n",
       "      <td>DEPUTY CHIEF OF DEPARTMENT,(FIRE DEPARTMENT)</td>\n",
       "      <td>134401.60</td>\n",
       "      <td>9737.00</td>\n",
       "      <td>182234.59</td>\n",
       "      <td>NaN</td>\n",
       "      <td>326373.19</td>\n",
       "      <td>326373.19</td>\n",
       "      <td>2011</td>\n",
       "      <td>NaN</td>\n",
       "      <td>San Francisco</td>\n",
       "      <td>NaN</td>\n",
       "    </tr>\n",
       "  </tbody>\n",
       "</table>\n",
       "</div>"
      ],
      "text/plain": [
       "   Id       EmployeeName                                        JobTitle  \\\n",
       "0   1     NATHANIEL FORD  GENERAL MANAGER-METROPOLITAN TRANSIT AUTHORITY   \n",
       "1   2       GARY JIMENEZ                 CAPTAIN III (POLICE DEPARTMENT)   \n",
       "2   3     ALBERT PARDINI                 CAPTAIN III (POLICE DEPARTMENT)   \n",
       "3   4  CHRISTOPHER CHONG            WIRE ROPE CABLE MAINTENANCE MECHANIC   \n",
       "4   5    PATRICK GARDNER    DEPUTY CHIEF OF DEPARTMENT,(FIRE DEPARTMENT)   \n",
       "\n",
       "     BasePay  OvertimePay   OtherPay  Benefits   TotalPay  TotalPayBenefits  \\\n",
       "0  167411.18         0.00  400184.25       NaN  567595.43         567595.43   \n",
       "1  155966.02    245131.88  137811.38       NaN  538909.28         538909.28   \n",
       "2  212739.13    106088.18   16452.60       NaN  335279.91         335279.91   \n",
       "3   77916.00     56120.71  198306.90       NaN  332343.61         332343.61   \n",
       "4  134401.60      9737.00  182234.59       NaN  326373.19         326373.19   \n",
       "\n",
       "   Year  Notes         Agency  Status  \n",
       "0  2011    NaN  San Francisco     NaN  \n",
       "1  2011    NaN  San Francisco     NaN  \n",
       "2  2011    NaN  San Francisco     NaN  \n",
       "3  2011    NaN  San Francisco     NaN  \n",
       "4  2011    NaN  San Francisco     NaN  "
      ]
     },
     "execution_count": 39,
     "metadata": {},
     "output_type": "execute_result"
    }
   ],
   "source": [
    "df.head(5)"
   ]
  },
  {
   "cell_type": "markdown",
   "metadata": {},
   "source": [
    "** Use the .info() method to find out how many entries there are.**"
   ]
  },
  {
   "cell_type": "code",
   "execution_count": 5,
   "metadata": {},
   "outputs": [
    {
     "name": "stdout",
     "output_type": "stream",
     "text": [
      "<class 'pandas.core.frame.DataFrame'>\n",
      "RangeIndex: 148654 entries, 0 to 148653\n",
      "Data columns (total 13 columns):\n",
      "Id                  148654 non-null int64\n",
      "EmployeeName        148654 non-null object\n",
      "JobTitle            148654 non-null object\n",
      "BasePay             148045 non-null float64\n",
      "OvertimePay         148650 non-null float64\n",
      "OtherPay            148650 non-null float64\n",
      "Benefits            112491 non-null float64\n",
      "TotalPay            148654 non-null float64\n",
      "TotalPayBenefits    148654 non-null float64\n",
      "Year                148654 non-null int64\n",
      "Notes               0 non-null float64\n",
      "Agency              148654 non-null object\n",
      "Status              0 non-null float64\n",
      "dtypes: float64(8), int64(2), object(3)\n",
      "memory usage: 14.7+ MB\n"
     ]
    }
   ],
   "source": [
    "df.info()"
   ]
  },
  {
   "cell_type": "markdown",
   "metadata": {},
   "source": [
    "**What is the average BasePay ?**"
   ]
  },
  {
   "cell_type": "code",
   "execution_count": 10,
   "metadata": {},
   "outputs": [
    {
     "data": {
      "text/plain": [
       "66325.44884050643"
      ]
     },
     "execution_count": 10,
     "metadata": {},
     "output_type": "execute_result"
    }
   ],
   "source": [
    "df.BasePay.mean()"
   ]
  },
  {
   "cell_type": "markdown",
   "metadata": {},
   "source": [
    "** What is the highest amount of OvertimePay in the dataset ? **"
   ]
  },
  {
   "cell_type": "code",
   "execution_count": 11,
   "metadata": {},
   "outputs": [
    {
     "data": {
      "text/plain": [
       "245131.88"
      ]
     },
     "execution_count": 11,
     "metadata": {},
     "output_type": "execute_result"
    }
   ],
   "source": [
    "df.OvertimePay.max()"
   ]
  },
  {
   "cell_type": "markdown",
   "metadata": {},
   "source": [
    "** What is the job title of  JOSEPH DRISCOLL ? Note: Use all caps, otherwise you may get an answer that doesn't match up (there is also a lowercase Joseph Driscoll). **"
   ]
  },
  {
   "cell_type": "code",
   "execution_count": 15,
   "metadata": {},
   "outputs": [
    {
     "data": {
      "text/plain": [
       "24    CAPTAIN, FIRE SUPPRESSION\n",
       "Name: JobTitle, dtype: object"
      ]
     },
     "execution_count": 15,
     "metadata": {},
     "output_type": "execute_result"
    }
   ],
   "source": [
    "df.loc[df.EmployeeName == \"JOSEPH DRISCOLL\"][\"JobTitle\"]"
   ]
  },
  {
   "cell_type": "markdown",
   "metadata": {},
   "source": [
    "** How much does JOSEPH DRISCOLL make (including benefits)? **"
   ]
  },
  {
   "cell_type": "code",
   "execution_count": 16,
   "metadata": {},
   "outputs": [
    {
     "data": {
      "text/plain": [
       "24    270324.91\n",
       "Name: TotalPayBenefits, dtype: float64"
      ]
     },
     "execution_count": 16,
     "metadata": {},
     "output_type": "execute_result"
    }
   ],
   "source": [
    "df.loc[df.EmployeeName == \"JOSEPH DRISCOLL\"][\"TotalPayBenefits\"]"
   ]
  },
  {
   "cell_type": "markdown",
   "metadata": {},
   "source": [
    "** What is the name of highest paid person (including benefits)?**"
   ]
  },
  {
   "cell_type": "code",
   "execution_count": 18,
   "metadata": {},
   "outputs": [
    {
     "data": {
      "text/plain": [
       "0    NATHANIEL FORD\n",
       "Name: EmployeeName, dtype: object"
      ]
     },
     "execution_count": 18,
     "metadata": {},
     "output_type": "execute_result"
    }
   ],
   "source": [
    "df.loc[df.TotalPayBenefits == df.TotalPayBenefits.max()][\"EmployeeName\"]"
   ]
  },
  {
   "cell_type": "markdown",
   "metadata": {},
   "source": [
    "** What is the name of lowest paid person (including benefits)? Do you notice something strange about how much he or she is paid?**"
   ]
  },
  {
   "cell_type": "code",
   "execution_count": 19,
   "metadata": {},
   "outputs": [
    {
     "data": {
      "text/html": [
       "<div>\n",
       "<style>\n",
       "    .dataframe thead tr:only-child th {\n",
       "        text-align: right;\n",
       "    }\n",
       "\n",
       "    .dataframe thead th {\n",
       "        text-align: left;\n",
       "    }\n",
       "\n",
       "    .dataframe tbody tr th {\n",
       "        vertical-align: top;\n",
       "    }\n",
       "</style>\n",
       "<table border=\"1\" class=\"dataframe\">\n",
       "  <thead>\n",
       "    <tr style=\"text-align: right;\">\n",
       "      <th></th>\n",
       "      <th>Id</th>\n",
       "      <th>EmployeeName</th>\n",
       "      <th>JobTitle</th>\n",
       "      <th>BasePay</th>\n",
       "      <th>OvertimePay</th>\n",
       "      <th>OtherPay</th>\n",
       "      <th>Benefits</th>\n",
       "      <th>TotalPay</th>\n",
       "      <th>TotalPayBenefits</th>\n",
       "      <th>Year</th>\n",
       "      <th>Notes</th>\n",
       "      <th>Agency</th>\n",
       "      <th>Status</th>\n",
       "    </tr>\n",
       "  </thead>\n",
       "  <tbody>\n",
       "    <tr>\n",
       "      <th>148653</th>\n",
       "      <td>148654</td>\n",
       "      <td>Joe Lopez</td>\n",
       "      <td>Counselor, Log Cabin Ranch</td>\n",
       "      <td>0.0</td>\n",
       "      <td>0.0</td>\n",
       "      <td>-618.13</td>\n",
       "      <td>0.0</td>\n",
       "      <td>-618.13</td>\n",
       "      <td>-618.13</td>\n",
       "      <td>2014</td>\n",
       "      <td>NaN</td>\n",
       "      <td>San Francisco</td>\n",
       "      <td>NaN</td>\n",
       "    </tr>\n",
       "  </tbody>\n",
       "</table>\n",
       "</div>"
      ],
      "text/plain": [
       "            Id EmployeeName                    JobTitle  BasePay  OvertimePay  \\\n",
       "148653  148654    Joe Lopez  Counselor, Log Cabin Ranch      0.0          0.0   \n",
       "\n",
       "        OtherPay  Benefits  TotalPay  TotalPayBenefits  Year  Notes  \\\n",
       "148653   -618.13       0.0   -618.13           -618.13  2014    NaN   \n",
       "\n",
       "               Agency  Status  \n",
       "148653  San Francisco     NaN  "
      ]
     },
     "execution_count": 19,
     "metadata": {},
     "output_type": "execute_result"
    }
   ],
   "source": [
    "df.loc[df.TotalPayBenefits == df.TotalPayBenefits.min()]"
   ]
  },
  {
   "cell_type": "markdown",
   "metadata": {},
   "source": [
    "** What was the average (mean) BasePay of all employees per year? (2011-2014) ? **"
   ]
  },
  {
   "cell_type": "code",
   "execution_count": 32,
   "metadata": {},
   "outputs": [
    {
     "data": {
      "text/plain": [
       "Year\n",
       "2011    63595.956517\n",
       "2012    65436.406857\n",
       "2013    69630.030216\n",
       "2014    66564.421924\n",
       "Name: BasePay, dtype: float64"
      ]
     },
     "execution_count": 32,
     "metadata": {},
     "output_type": "execute_result"
    }
   ],
   "source": [
    "df.groupby([\"Year\"]).BasePay.mean()"
   ]
  },
  {
   "cell_type": "markdown",
   "metadata": {},
   "source": [
    "** How many unique job titles are there? **"
   ]
  },
  {
   "cell_type": "code",
   "execution_count": 29,
   "metadata": {},
   "outputs": [
    {
     "data": {
      "text/plain": [
       "2159"
      ]
     },
     "execution_count": 29,
     "metadata": {},
     "output_type": "execute_result"
    }
   ],
   "source": [
    "df.JobTitle.unique().size"
   ]
  },
  {
   "cell_type": "markdown",
   "metadata": {},
   "source": [
    "** What are the top 5 most common jobs? **"
   ]
  },
  {
   "cell_type": "code",
   "execution_count": 41,
   "metadata": {},
   "outputs": [
    {
     "data": {
      "text/plain": [
       "JobTitle\n",
       "Transit Operator                7036\n",
       "Special Nurse                   4389\n",
       "Registered Nurse                3736\n",
       "Public Svc Aide-Public Works    2518\n",
       "Police Officer 3                2421\n",
       "dtype: int64"
      ]
     },
     "execution_count": 41,
     "metadata": {},
     "output_type": "execute_result"
    }
   ],
   "source": [
    "df.groupby([\"JobTitle\"]).size().nlargest(5)"
   ]
  },
  {
   "cell_type": "markdown",
   "metadata": {},
   "source": [
    "** How many Job Titles were represented by only one person in 2013? (e.g. Job Titles with only one occurence in 2013?) **"
   ]
  },
  {
   "cell_type": "code",
   "execution_count": 66,
   "metadata": {},
   "outputs": [
    {
     "data": {
      "text/plain": [
       "202"
      ]
     },
     "execution_count": 66,
     "metadata": {},
     "output_type": "execute_result"
    }
   ],
   "source": [
    "df1 = df[df.Year == 2013]\n",
    "df1.groupby([\"JobTitle\"]).size()[df1.groupby([\"JobTitle\"]).size() == 1].count()"
   ]
  },
  {
   "cell_type": "markdown",
   "metadata": {},
   "source": [
    "** How many people have the word Chief in their job title? (This is pretty tricky) **"
   ]
  },
  {
   "cell_type": "code",
   "execution_count": 5,
   "metadata": {},
   "outputs": [
    {
     "name": "stdout",
     "output_type": "stream",
     "text": [
      "392\n",
      "313\n"
     ]
    },
    {
     "data": {
      "text/plain": [
       "array(['patrick gardner', 'david sullivan', 'alson lee', 'michael morris',\n",
       "       'joanne hayes-white', 'arthur kenney', 'david franklin',\n",
       "       'marty ross', 'victor wyrsch', 'gregory suhr', 'raymond guzman',\n",
       "       'denise schmitt', 'monica fields', 'david shinn', 'jose velo',\n",
       "       'brendan ward', 'michael thompson', 'thomas abbott',\n",
       "       'thomas siragusa', 'bryan rubenstein', 'james dudley',\n",
       "       'kirk richardson', 'kevin cashman', 'mark kearney', 'charles crane',\n",
       "       'robert postel', 'thomas shawyer', 'richard busalacchi',\n",
       "       'kevin burke', 'eduardo gonzalez', 'lorrie kalos', 'michael bryant',\n",
       "       'mark gonzales', 'rex hale', 'kevin smith', 'kevin taylor',\n",
       "       'samson lai', 'khairul ali', 'john hickey', 'zachary pumphrey',\n",
       "       'jesse smith', 'therese stewart', 'marisa moret', 'michael kearney',\n",
       "       'matthew mcnaughton', 'dennis sutter', 'burk delventhal',\n",
       "       'robert serrano', 'james vannucchi', 'barbara schultheis',\n",
       "       'frank cardinale', 'james harrigan', 'joanne hoeper', 'james blake',\n",
       "       'rudy castellanos', 'linda ross', 'robert maerz', 'david pfeifer',\n",
       "       'william siffermann', 'sharon woo', 'mark johnson', 'wendy still',\n",
       "       'raemona williams', 'robert bryan', 'julia m c friedlander',\n",
       "       'julie van nostern', 'aleeta van runkle', 'donald margolis',\n",
       "       'james emery', 'wayne snodgrass', 'theresa mueller', 'alex tse',\n",
       "       'matthew rothschild', 'vicki clayton', 'paul henderson',\n",
       "       'noreen ambrose', 'maria bee', 'kimiko burton', 'owen clements',\n",
       "       'jerry coleman', 'june cravet', 'denise newman', 'braden woods',\n",
       "       'kate herrman stacy', 'john cremen', 'frank kosta', 'vincent nolan',\n",
       "       'cherish murdock', 'caryn bortnick', 'thomas doudiet',\n",
       "       'ronald lewin', 'albert waters ii', 'allen nance', 'sabrina butler',\n",
       "       'ellen brin', 'gerald scullion', 'george wong', 'james crisolo',\n",
       "       'perry bonelli', 'kenneth payne', 'anthony smerdel',\n",
       "       'matthew gonzalez', 'gregory chase', 'wayne chan', 'leo martinez',\n",
       "       'joe guerra', 'michael haase', 'parveen joshi', 'neil friedman',\n",
       "       'daniel lowrey', 'steven panelli', 'michael weisenberger',\n",
       "       'audry lee', 'emrulkayes akter', 'ron allen', 'eric kondo',\n",
       "       'john aires', 'george engel', 'richard yee', 'steven jones',\n",
       "       'robert matcham', 'roberto mclean', 'rosemary bosque',\n",
       "       'van jackson', 'russell ng', 'carlos sanchez', 'thomas cotter',\n",
       "       'kathleen mccarthy-boyce', 'ron huberman', 'tomio nakadegawa',\n",
       "       'arturo lopez', 'daniel lazzari', 'mark pandori', 'robert peterson',\n",
       "       'charles wegerle', 'andrew clark', 'marilyn lopes',\n",
       "       'nerivaldo santos', 'carla godfrey', 'wesley ng',\n",
       "       'pedro mendoza jr.', 'james struble', 'robert hanley',\n",
       "       'steven kohmann', 'jamie padover', 'sheila calabro',\n",
       "       'christopher molina', 'jeffrey yee', 'gerard murphy',\n",
       "       'gerardo segarra', 'luisa wong', 'dale miller', 'viktor kirienko',\n",
       "       'jimmy kirk', 'john rolandelli', 'jacqueline ortiz-forman',\n",
       "       'amor bautista', 'michael gay', 'joe gibson', 'kevin bolter',\n",
       "       'natividad ramirez', 'jean hassett', 'lauren bell', 'jackson gee',\n",
       "       'hernan miras', 'bethsaida ruiz', 'george vaughan',\n",
       "       'christine schwartz', 'loretta cecconi', 'charles lee',\n",
       "       'tuti suardana', 'martha espana', 'christine del-fava',\n",
       "       'aaron stevenson', 'rachel gosiengfiao', 'jennifer novak',\n",
       "       'deborah brown', 'emily kretz', 'sylvia thai', 'peter aviles',\n",
       "       'sogra kadir', 'shahin shaikh', 'david koch', 'david palma',\n",
       "       'wai-fong cheung', 'cris logia-jr', 'artie kelly', 'christina wang',\n",
       "       'judith boyajian', 'mark antonio', 'teresa caffese', 'paula jesson',\n",
       "       'tony durkee', 'ann castillo', 'sharon jackson', 'sara bennett',\n",
       "       'cheryl coleman', 'james taylor', 'john wall', 'brent powell',\n",
       "       'james barden', 'norman daley', 'simon lee', 'patrick boyd',\n",
       "       'thomas harvey', 'pete fay jr', 'jeffrey myers', 'lyn tomioka',\n",
       "       'george garcia', 'michael biel', 'samuel romero', 'edmund dea',\n",
       "       'julia m friedlander', 'richard mcgee', 'steven bokura',\n",
       "       'ronald flynn', 'danny chou', 'freya horne', 'matthew freeman',\n",
       "       'katherine johnson', 'martin krizay', 'sylvia selinger',\n",
       "       'christine del fava', 'artie l kelly', 'gregory p suhr',\n",
       "       'joanne m hayes-white', 'samson  lai', 'michael j biel',\n",
       "       'marty a ross', 'mark j johnson', 'bryan w rubenstein',\n",
       "       'john j loftus', 'michael j morris', 'david  shinn',\n",
       "       'lorrie a kalos', 'lyn  tomioka', 'denise a schmitt',\n",
       "       'rudy j castellanos', 'thomas f abbott', 'pete l fay jr',\n",
       "       'khairul a ali', 'john a hickey', 'brendan a ward',\n",
       "       'kirk w richardson', 'edmund g dea', 'michael r bryant',\n",
       "       'kenneth a lombardi', 'kevin w smith', 'jose l velo',\n",
       "       'jeffrey  myers', 'kyle j merkins', 'rex j hale', 'victor h wyrsch',\n",
       "       'kevin d taylor', 'samuel  romero', 'zachary w pumphrey',\n",
       "       'denise l newman', 'michael i thompson', 'ken  yee',\n",
       "       'thomas e harvey', 'john c cremen', 'richard e mcgee',\n",
       "       'charles  crane', 'raemona e williams', 'matthew e gonzalez',\n",
       "       'james m vannucchi', 'joanne m hoeper', 'brook  baker',\n",
       "       'burk e delventhal', 'david a pfeifer', 'wendy s still',\n",
       "       'noreen m ambrose', 'robert s maerz', 'matthew j rothschild',\n",
       "       'sharon  woo', 'kimiko c burton', 'thomas p oconnor',\n",
       "       'freya a horne', 'julie  van nostern', 'june d cravet',\n",
       "       'kate herrman  stacy', 'donald p margolis', 'jerry p coleman',\n",
       "       'theresa l mueller', 'james  emery', 'robert a bryan',\n",
       "       'aleeta  van runkle', 'ronald p flynn', 'owen j clements',\n",
       "       'wayne k snodgrass', 'paul d henderson', 'cherish  murdock',\n",
       "       'david m merin', 'ana  gonzalez', 'cheryl s adams',\n",
       "       'steven m bokura', 'eileen m malley', 'sheryl l bregman',\n",
       "       'jonathan  givner', 'yvonne r mere', 'albert b waters ii',\n",
       "       'katherine l johnson', 'matthew s freeman', 'martin j krizay',\n",
       "       'perry j bonelli', 'james i dudley', 'kenneth l payne',\n",
       "       'gregory j chase', 'steven r panelli', 'neil d friedman',\n",
       "       'anthony  grieco', \"patrick  o'riordan\", 'michael j weisenberger',\n",
       "       'ron h allen', 'ronald k tom', 'michael g gay', 'arturo  lopez',\n",
       "       'rosemary v bosque', 'nerivaldo c santos', 'eric  kondo',\n",
       "       'robert e peterson', 'robert w hanley', 'marilyn j lopes',\n",
       "       'james t struble', 'daniel m lazzari', 'jimmy l kirk',\n",
       "       'kevin d bolter', 'kevin p cashman', 'amor c bautista',\n",
       "       'viktor  kirienko', 'joe w gibson', 'loretta m cecconi',\n",
       "       'george d vaughan', 'john  aires', 'david w kolkana',\n",
       "       'kelly m toth', 'mark y antonio', 'tuti i suardana',\n",
       "       'wai-fong c cheung', 'deborah l brown', 'rachel a gosiengfiao',\n",
       "       'jennifer l novak', 'sylvia n thai', 'cheryl l coleman',\n",
       "       'peter  aviles', 'cuong  quach', 'shahin p shaikh',\n",
       "       'artie l l kelly', 'sara k bennett', 'sylvia m selinger',\n",
       "       'ann m castillo', 'jamie  padover', 'john  rolandelli',\n",
       "       'paula  jesson', 'judith a boyajian', 'james m blake',\n",
       "       'sharon c jackson', 'leo m martinez', 'braden c woods',\n",
       "       'tony e durkee', 'anita s lee', 'george h garcia', 'julian m stark',\n",
       "       'sogra  kadir', 'emily a kretz', 'william j coaker jr.',\n",
       "       'charlie orkes', 'hector m sainez', 'sharon ferrigno', 'ken yee',\n",
       "       'brook baker', 'nikolas p lemos', 'jonathan givner',\n",
       "       'katherine w miller', 'marshall khine', 'dyana m lechuga',\n",
       "       'wade k chow', \"patrick o'riordan\", 'anthony grieco',\n",
       "       'william e blackwell jr', 'bradley k luken', 'martin m look',\n",
       "       'ko ko zin', 'mark a naddy', 'rolando c lopez', 'james m ryan',\n",
       "       'paul h mabry', 'cuong quach', 'janice gragasin',\n",
       "       'ryan l butterfield', 'patrick w gillespie', 'christopher l ochoa'], dtype=object)"
      ]
     },
     "execution_count": 5,
     "metadata": {},
     "output_type": "execute_result"
    }
   ],
   "source": [
    "print(df.EmployeeName[df.JobTitle.str.lower().str.contains(\"chief\")].str.lower().unique().size)\n",
    "print(df.EmployeeName[df.JobTitle.str.contains(\"Chief\")].unique().size)\n",
    "df.EmployeeName[df.JobTitle.str.lower().str.contains(\"chief\")].str.lower().unique()"
   ]
  },
  {
   "cell_type": "code",
   "execution_count": 60,
   "metadata": {},
   "outputs": [
    {
     "data": {
      "text/plain": [
       "627"
      ]
     },
     "execution_count": 60,
     "metadata": {},
     "output_type": "execute_result"
    }
   ],
   "source": [
    "# The above answer is different. Can't see why it's wrong.\n",
    "# Also the same answer in solution gives 627 instead of 477.\n",
    "def chief_string(title):\n",
    "    if 'chief' in title.lower():\n",
    "        return True\n",
    "    else:\n",
    "        return False\n",
    "sum(df['JobTitle'].apply(lambda x: chief_string(x)))"
   ]
  },
  {
   "cell_type": "markdown",
   "metadata": {},
   "source": [
    "** Bonus: Is there a correlation between length of the Job Title string and Salary? **"
   ]
  },
  {
   "cell_type": "code",
   "execution_count": 63,
   "metadata": {},
   "outputs": [
    {
     "data": {
      "text/html": [
       "<div>\n",
       "<style>\n",
       "    .dataframe thead tr:only-child th {\n",
       "        text-align: right;\n",
       "    }\n",
       "\n",
       "    .dataframe thead th {\n",
       "        text-align: left;\n",
       "    }\n",
       "\n",
       "    .dataframe tbody tr th {\n",
       "        vertical-align: top;\n",
       "    }\n",
       "</style>\n",
       "<table border=\"1\" class=\"dataframe\">\n",
       "  <thead>\n",
       "    <tr style=\"text-align: right;\">\n",
       "      <th></th>\n",
       "      <th>titlelen</th>\n",
       "      <th>TotalPayBenefits</th>\n",
       "    </tr>\n",
       "  </thead>\n",
       "  <tbody>\n",
       "    <tr>\n",
       "      <th>titlelen</th>\n",
       "      <td>1.000000</td>\n",
       "      <td>-0.036878</td>\n",
       "    </tr>\n",
       "    <tr>\n",
       "      <th>TotalPayBenefits</th>\n",
       "      <td>-0.036878</td>\n",
       "      <td>1.000000</td>\n",
       "    </tr>\n",
       "  </tbody>\n",
       "</table>\n",
       "</div>"
      ],
      "text/plain": [
       "                  titlelen  TotalPayBenefits\n",
       "titlelen          1.000000         -0.036878\n",
       "TotalPayBenefits -0.036878          1.000000"
      ]
     },
     "execution_count": 63,
     "metadata": {},
     "output_type": "execute_result"
    }
   ],
   "source": [
    "df[\"titlelen\"]=df.JobTitle.apply(len)\n",
    "df[['titlelen','TotalPayBenefits']].corr()"
   ]
  },
  {
   "cell_type": "code",
   "execution_count": 23,
   "metadata": {},
   "outputs": [
    {
     "data": {
      "text/html": [
       "<div>\n",
       "<table border=\"1\" class=\"dataframe\">\n",
       "  <thead>\n",
       "    <tr style=\"text-align: right;\">\n",
       "      <th></th>\n",
       "      <th>title_len</th>\n",
       "      <th>TotalPayBenefits</th>\n",
       "    </tr>\n",
       "  </thead>\n",
       "  <tbody>\n",
       "    <tr>\n",
       "      <th>title_len</th>\n",
       "      <td>1.000000</td>\n",
       "      <td>-0.036878</td>\n",
       "    </tr>\n",
       "    <tr>\n",
       "      <th>TotalPayBenefits</th>\n",
       "      <td>-0.036878</td>\n",
       "      <td>1.000000</td>\n",
       "    </tr>\n",
       "  </tbody>\n",
       "</table>\n",
       "</div>"
      ],
      "text/plain": [
       "                  title_len  TotalPayBenefits\n",
       "title_len          1.000000         -0.036878\n",
       "TotalPayBenefits  -0.036878          1.000000"
      ]
     },
     "execution_count": 23,
     "metadata": {},
     "output_type": "execute_result"
    }
   ],
   "source": []
  },
  {
   "cell_type": "markdown",
   "metadata": {},
   "source": [
    "# Great Job!"
   ]
  }
 ],
 "metadata": {
  "kernelspec": {
   "display_name": "Python 3",
   "language": "python",
   "name": "python3"
  },
  "language_info": {
   "codemirror_mode": {
    "name": "ipython",
    "version": 3
   },
   "file_extension": ".py",
   "mimetype": "text/x-python",
   "name": "python",
   "nbconvert_exporter": "python",
   "pygments_lexer": "ipython3",
   "version": "3.6.3"
  }
 },
 "nbformat": 4,
 "nbformat_minor": 1
}
